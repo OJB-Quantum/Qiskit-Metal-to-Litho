{
  "nbformat": 4,
  "nbformat_minor": 0,
  "metadata": {
    "colab": {
      "provenance": [],
      "authorship_tag": "ABX9TyMoCKQjnKQUwoe4FslMFktE",
      "include_colab_link": true
    },
    "kernelspec": {
      "name": "python3",
      "display_name": "Python 3"
    },
    "language_info": {
      "name": "python"
    }
  },
  "cells": [
    {
      "cell_type": "markdown",
      "metadata": {
        "id": "view-in-github",
        "colab_type": "text"
      },
      "source": [
        "<a href=\"https://colab.research.google.com/github/OJB-Quantum/Qiskit-Metal-to-Litho/blob/main/Qiskit_Metal_Fully_in_Google_Colab.ipynb\" target=\"_parent\"><img src=\"https://colab.research.google.com/assets/colab-badge.svg\" alt=\"Open In Colab\"/></a>"
      ]
    },
    {
      "cell_type": "code",
      "execution_count": 1,
      "metadata": {
        "colab": {
          "base_uri": "https://localhost:8080/"
        },
        "id": "uSkiwiPZY-hq",
        "outputId": "064883eb-fbb7-4acb-a13f-d00f373df793"
      },
      "outputs": [
        {
          "output_type": "stream",
          "name": "stdout",
          "text": [
            "Matplotlib backend: Agg\n",
            "\u001b[2K   \u001b[90m━━━━━━━━━━━━━━━━━━━━━━━━━━━━━━━━━━━━━━━━\u001b[0m \u001b[32m1.8/1.8 MB\u001b[0m \u001b[31m16.2 MB/s\u001b[0m eta \u001b[36m0:00:00\u001b[0m\n",
            "\u001b[2K   \u001b[90m━━━━━━━━━━━━━━━━━━━━━━━━━━━━━━━━━━━━━━━━\u001b[0m \u001b[32m1.2/1.2 MB\u001b[0m \u001b[31m53.1 MB/s\u001b[0m eta \u001b[36m0:00:00\u001b[0m\n",
            "\u001b[?25h\u001b[31mERROR: pip's dependency resolver does not currently take into account all the packages that are installed. This behaviour is the source of the following dependency conflicts.\n",
            "ipython 7.34.0 requires jedi>=0.16, which is not installed.\u001b[0m\u001b[31m\n",
            "\u001b[0m"
          ]
        }
      ],
      "source": [
        "#@title Headless preflight (Qt off) + deps\n",
        "import os\n",
        "os.environ[\"QT_QPA_PLATFORM\"] = \"offscreen\"\n",
        "os.environ[\"MPLBACKEND\"] = \"Agg\"\n",
        "\n",
        "import matplotlib as mpl\n",
        "try:\n",
        "    mpl.use(\"Agg\", force=True)\n",
        "except TypeError:\n",
        "    mpl.use(\"Agg\")\n",
        "print(\"Matplotlib backend:\", mpl.get_backend())\n",
        "\n",
        "# Scientific + GDS toolchain (incl. Descartes)\n",
        "%pip -q install --upgrade pip wheel setuptools\n",
        "%pip -q install \"numpy>=1.24\" \"matplotlib>=3.8\" \\\n",
        "                \"gdstk>=0.9.61\" \"shapely>=2.0\" \"ezdxf>=1.2.0\" \\\n",
        "                \"pandas>=2.0\" \"scipy>=1.10\" \"networkx>=2.8\" \\\n",
        "                \"pint>=0.20\" \"addict>=2.4.0\" \"pyyaml>=6.0.1\" \\\n",
        "                \"qutip>=4.7\" \"h5py>=3.8\" \"descartes>=1.1\" \"jedi>=0.19.1\"\n"
      ]
    },
    {
      "cell_type": "code",
      "source": [
        "#@title Clone Metal; bind to /content/qiskit-metal; headless, layout-only init (Dict + is_component)\n",
        "# pylint: disable=invalid-name\n",
        "import os, sys, re, textwrap\n",
        "from pathlib import Path\n",
        "\n",
        "# Fresh clone\n",
        "!rm -rf /content/qiskit-metal\n",
        "!git clone --depth 1 https://github.com/qiskit-community/qiskit-metal /content/qiskit-metal\n",
        "\n",
        "root = Path(\"/content/qiskit-metal\")\n",
        "pkg  = root / \"qiskit_metal\"\n",
        "assert pkg.exists(), f\"Package folder missing: {pkg}\"\n",
        "\n",
        "# Force Python to import FROM THIS FOLDER (no editable install)\n",
        "if str(root) not in sys.path:\n",
        "    sys.path.insert(0, str(root))\n",
        "os.environ[\"PYTHONPATH\"] = str(root) + (\":\" + os.environ.get(\"PYTHONPATH\",\"\"))\n",
        "\n",
        "# --- Replace qiskit_metal/__init__.py with a minimal but compatible headless init ---\n",
        "orig_init = (pkg / \"__init__.py\").read_text(encoding=\"utf-8\")\n",
        "(pkg / \"__init__orig.py\").write_text(orig_init, encoding=\"utf-8\")\n",
        "\n",
        "minimal_init = textwrap.dedent(\"\"\"\n",
        "    # [colab] Headless, layout-only __init__ (no GUI, no analyses), keep essentials.\n",
        "    import logging as _logging\n",
        "    try:\n",
        "        from addict import Dict as Dict\n",
        "    except Exception:\n",
        "        from .toolbox_python.attr_dict import Dict\n",
        "\n",
        "    logger = _logging.getLogger(\"qiskit_metal_colab\")\n",
        "\n",
        "    class _Config:\n",
        "        @staticmethod\n",
        "        def is_building_docs():\n",
        "            return False\n",
        "    config = _Config()\n",
        "\n",
        "    def is_design(obj):\n",
        "        try:\n",
        "            from .designs.design_base import QDesign\n",
        "            return isinstance(obj, QDesign)\n",
        "        except Exception:\n",
        "            return False\n",
        "\n",
        "    def is_component(obj):\n",
        "        try:\n",
        "            from .qlibrary.core.base import QComponent\n",
        "            return isinstance(obj, QComponent)\n",
        "        except Exception:\n",
        "            return False\n",
        "\n",
        "    __all__ = [\"Dict\", \"config\", \"logger\", \"is_design\", \"is_component\"]\n",
        "\"\"\").strip()+\"\\n\"\n",
        "(pkg / \"__init__.py\").write_text(minimal_init, encoding=\"utf-8\")\n",
        "\n",
        "# --- Scrub ALL draw.mpl imports to avoid PySide2 at import time ---\n",
        "draw_init = pkg / \"draw\" / \"__init__.py\"\n",
        "if draw_init.exists():\n",
        "    d = draw_init.read_text(encoding=\"utf-8\")\n",
        "    # Guard \"from . import mpl\"\n",
        "    d = re.sub(r'^\\s*from\\s+\\.\\s*import\\s+mpl\\s*$',\n",
        "               \"try:\\n    from . import mpl\\n\"\n",
        "               \"except Exception as _e:\\n\"\n",
        "               \"    print('[colab] draw.mpl disabled (headless):', _e)\\n\",\n",
        "               d, flags=re.MULTILINE)\n",
        "    # Guard \"from .mpl import ...\" and any other .mpl imports\n",
        "    d = re.sub(r'^\\s*from\\s+\\.\\s*mpl\\s+import[^\\n]*$',\n",
        "               \"try:\\n    from .mpl import render, figure_spawn\\n\"\n",
        "               \"except Exception as _e:\\n\"\n",
        "               \"    print('[colab] draw.mpl (named) disabled (headless):', _e)\\n\"\n",
        "               \"    def render(*a, **k):\\n\"\n",
        "               \"        raise RuntimeError('draw.mpl unavailable in headless mode')\\n\"\n",
        "               \"    def figure_spawn(*a, **k):\\n\"\n",
        "               \"        raise RuntimeError('draw.mpl unavailable in headless mode')\\n\",\n",
        "               d, flags=re.MULTILINE)\n",
        "    draw_init.write_text(d, encoding=\"utf-8\")\n",
        "\n",
        "# Optional: ensure renderers package never drags Qt; keep explicit imports only\n",
        "rndr_init = pkg / \"renderers\" / \"__init__.py\"\n",
        "if rndr_init.exists():\n",
        "    (rndr_init.parent / \"__init__orig.py\").write_text(rndr_init.read_text(encoding=\"utf-8\"), encoding=\"utf-8\")\n",
        "    rndr_init.write_text(\"# [colab] minimal renderers package (explicit imports only; no Qt/MPL)\\n__all__ = []\\n\",\n",
        "                         encoding=\"utf-8\")\n",
        "\n",
        "# Verify: import the package *from this folder* and keep it light\n",
        "import importlib, sys as _sys\n",
        "importlib.invalidate_caches()\n",
        "import qiskit_metal\n",
        "print(\"qiskit_metal from:\", qiskit_metal.__file__)\n",
        "assert qiskit_metal.__file__.startswith(str(pkg)), \"Not importing from /content/qiskit-metal!\"\n"
      ],
      "metadata": {
        "colab": {
          "base_uri": "https://localhost:8080/"
        },
        "id": "o5Nl42_Yq6vt",
        "outputId": "c855c0d8-b568-405d-e03b-3aa03bfb03f4"
      },
      "execution_count": 2,
      "outputs": [
        {
          "output_type": "stream",
          "name": "stdout",
          "text": [
            "Cloning into '/content/qiskit-metal'...\n",
            "remote: Enumerating objects: 1050, done.\u001b[K\n",
            "remote: Counting objects: 100% (1050/1050), done.\u001b[K\n",
            "remote: Compressing objects: 100% (952/952), done.\u001b[K\n",
            "remote: Total 1050 (delta 166), reused 672 (delta 88), pack-reused 0 (from 0)\u001b[K\n",
            "Receiving objects: 100% (1050/1050), 30.22 MiB | 2.86 MiB/s, done.\n",
            "Resolving deltas: 100% (166/166), done.\n",
            "qiskit_metal from: /content/qiskit-metal/qiskit_metal/__init__.py\n"
          ]
        }
      ]
    },
    {
      "cell_type": "code",
      "source": [
        "#@title CPW meander with launch pads (reads /content/qiskit-metal; no GUI)\n",
        "# PEP 8 knobs\n",
        "CPW_WIDTH_UM    = 10.0\n",
        "CPW_GAP_UM      = 6.0\n",
        "MEANDER_LEN_UM  = 3000.0          # ≈ your 3 mm\n",
        "FILLET_UM       = 100.0           # turn radius\n",
        "MEANDER_SP_UM   = 700.0           # adjacent-line spacing (tune as needed)\n",
        "LEAD_START_UM   = 100.0\n",
        "LEAD_END_UM     = 100.0\n",
        "\n",
        "# Launch pad knobs (mapped to LaunchpadWirebond)\n",
        "PAD_WIDTH_UM    = 300.0\n",
        "TAPER_HEIGHT_UM = 300.0\n",
        "PAD_HEIGHT_UM   = 240.0           # your “outer trace width”\n",
        "PAD_GAP_UM      = 144.0           # your “outer gap width”\n",
        "LEAD_LEN_UM     = 50.0\n",
        "\n",
        "# Positions (left/right pads along +x), adjust if you like\n",
        "LP_LEFT_X_UM    = 0.0\n",
        "LP_RIGHT_X_UM   = 4500.0          # generous separation; meander will use ~3 mm\n",
        "LP_Y_UM         = 0.0\n",
        "\n",
        "# ---------- import from your local source ----------\n",
        "import sys, os\n",
        "from pathlib import Path\n",
        "root = Path(\"/content/qiskit-metal\")\n",
        "assert (root / \"qiskit_metal\").exists(), \"Clone qiskit-metal under /content first.\"\n",
        "if str(root) not in sys.path:\n",
        "    sys.path.insert(0, str(root))\n",
        "\n",
        "from qiskit_metal.designs import DesignPlanar\n",
        "from qiskit_metal.toolbox_python.attr_dict import Dict\n",
        "from qiskit_metal.qlibrary.terminations.launchpad_wb import LaunchpadWirebond\n",
        "from qiskit_metal.qlibrary.tlines.meandered import RouteMeander\n",
        "\n",
        "# ---------- design-wide CPW defaults ----------\n",
        "design = DesignPlanar(metadata={}, overwrite_enabled=True, enable_renderers=False)\n",
        "design.variables[\"cpw_width\"] = f\"{CPW_WIDTH_UM}um\"\n",
        "design.variables[\"cpw_gap\"]   = f\"{CPW_GAP_UM}um\"\n",
        "design.chips.main.size[\"size_x\"] = \"8mm\"\n",
        "design.chips.main.size[\"size_y\"] = \"4mm\"\n",
        "\n",
        "# ---------- launch pads (pin name is 'tie') ----------\n",
        "lpL = LaunchpadWirebond(\n",
        "    design, \"LP_left\",\n",
        "    options=dict(\n",
        "        pos_x=f\"{LP_LEFT_X_UM}um\", pos_y=f\"{LP_Y_UM}um\", orientation=\"0\",\n",
        "        trace_width=f\"{CPW_WIDTH_UM}um\", trace_gap=f\"{CPW_GAP_UM}um\",\n",
        "        lead_length=f\"{LEAD_LEN_UM}um\",\n",
        "        pad_width=f\"{PAD_WIDTH_UM}um\", pad_height=f\"{PAD_HEIGHT_UM}um\",\n",
        "        pad_gap=f\"{PAD_GAP_UM}um\", taper_height=f\"{TAPER_HEIGHT_UM}um\"\n",
        "    )\n",
        ")\n",
        "\n",
        "lpR = LaunchpadWirebond(\n",
        "    design, \"LP_right\",\n",
        "    options=dict(\n",
        "        pos_x=f\"{LP_RIGHT_X_UM}um\", pos_y=f\"{LP_Y_UM}um\", orientation=\"180\",\n",
        "        trace_width=f\"{CPW_WIDTH_UM}um\", trace_gap=f\"{CPW_GAP_UM}um\",\n",
        "        lead_length=f\"{LEAD_LEN_UM}um\",\n",
        "        pad_width=f\"{PAD_WIDTH_UM}um\", pad_height=f\"{PAD_HEIGHT_UM}um\",\n",
        "        pad_gap=f\"{PAD_GAP_UM}um\", taper_height=f\"{TAPER_HEIGHT_UM}um\"\n",
        "    )\n",
        ")\n",
        "\n",
        "# ---------- meander between pad pins (tie → tie) ----------\n",
        "meander_opts = Dict(\n",
        "    pin_inputs=Dict(\n",
        "        start_pin=Dict(component=lpL.name, pin=\"tie\"),\n",
        "        end_pin=Dict(component=lpR.name, pin=\"tie\")\n",
        "    ),\n",
        "    total_length=f\"{MEANDER_LEN_UM}um\",\n",
        "    fillet=f\"{FILLET_UM}um\",\n",
        "    meander=Dict(spacing=f\"{MEANDER_SP_UM}um\"),\n",
        "    lead=Dict(start_straight=f\"{LEAD_START_UM}um\", end_straight=f\"{LEAD_END_UM}um\"),\n",
        ")\n",
        "\n",
        "bus = RouteMeander(design, \"meander_L2R\", options=meander_opts)\n",
        "bus.rebuild()\n",
        "\n",
        "# ---------- quick sanity prints ----------\n",
        "print(\"Components:\", list(design.components.keys()))\n",
        "for t, df in design.qgeometry.tables.items():\n",
        "    print(f\"{t}: {len(df)} rows\")\n"
      ],
      "metadata": {
        "colab": {
          "base_uri": "https://localhost:8080/"
        },
        "id": "e_YJLYHdq6tl",
        "outputId": "ab5b0b8d-0451-4fe6-9fed-957379ae2e41"
      },
      "execution_count": 12,
      "outputs": [
        {
          "output_type": "stream",
          "name": "stderr",
          "text": [
            "WARNING:qiskit_metal_colab:For path table, component=meander_L2R, key=trace has short segments that could cause issues with fillet. Values in (1-2) (9-10)  are index(es) in shapely geometry.\n",
            "/content/qiskit-metal/qiskit_metal/qgeometries/qgeometries_handler.py:528: FutureWarning: The behavior of DataFrame concatenation with empty or all-NA entries is deprecated. In a future version, this will no longer exclude empty or all-NA columns when determining the result dtypes. To retain the old behavior, exclude the relevant entries before the concat operation.\n",
            "  self.tables[kind] = pd.concat([table, df],\n",
            "WARNING:qiskit_metal_colab:For path table, component=meander_L2R, key=cut has short segments that could cause issues with fillet. Values in (1-2) (9-10)  are index(es) in shapely geometry.\n",
            "WARNING:qiskit_metal_colab:For path table, component=meander_L2R, key=trace has short segments that could cause issues with fillet. Values in (1-2) (9-10)  are index(es) in shapely geometry.\n",
            "WARNING:qiskit_metal_colab:For path table, component=meander_L2R, key=cut has short segments that could cause issues with fillet. Values in (1-2) (9-10)  are index(es) in shapely geometry.\n"
          ]
        },
        {
          "output_type": "stream",
          "name": "stdout",
          "text": [
            "Components: ['LP_left', 'LP_right', 'meander_L2R']\n",
            "path: 2 rows\n",
            "poly: 4 rows\n",
            "junction: 0 rows\n"
          ]
        }
      ]
    },
    {
      "cell_type": "code",
      "source": [
        "#@title Export to GDS with 64-point turns (pure GDSTK path)\n",
        "from pathlib import Path\n",
        "import numpy as np\n",
        "import gdstk\n",
        "import shapely.ops as sops\n",
        "\n",
        "OUT_DIR = Path(\"/content/out_gds\"); OUT_DIR.mkdir(parents=True, exist_ok=True)\n",
        "GDS_PATH = OUT_DIR / \"cpw_meander_with_pads.gds\"\n",
        "\n",
        "def _shapely_to_gdstk_polys(geom, layer=1, datatype=0):\n",
        "    polys = []\n",
        "    if getattr(geom, \"is_empty\", True):\n",
        "        return polys\n",
        "    gtype = getattr(geom, \"geom_type\", \"\")\n",
        "    if gtype == \"Polygon\":\n",
        "        polys.append(gdstk.Polygon(np.asarray(geom.exterior.coords), layer=layer, datatype=datatype))\n",
        "        for hole in geom.interiors:\n",
        "            polys.append(gdstk.Polygon(np.asarray(hole.coords), layer=layer, datatype=datatype))\n",
        "    elif gtype == \"MultiPolygon\":\n",
        "        for sub in geom.geoms:\n",
        "            polys.extend(_shapely_to_gdstk_polys(sub, layer, datatype))\n",
        "    else:\n",
        "        try:\n",
        "            for sub in sops.polygonize(geom):\n",
        "                polys.extend(_shapely_to_gdstk_polys(sub, layer, datatype))\n",
        "        except Exception:\n",
        "            pass\n",
        "    return polys\n",
        "\n",
        "# GDS library in microns\n",
        "lib = gdstk.Library(unit=1e-6, precision=1e-9)\n",
        "cell = gdstk.Cell(\"CPW_MEANDER\"); lib.add(cell)\n",
        "\n",
        "L_METAL = 1\n",
        "L_ETCH  = 10\n",
        "\n",
        "# 1) Write 'poly' elements directly\n",
        "if \"poly\" in design.qgeometry.tables:\n",
        "    for _, row in design.qgeometry.tables[\"poly\"].iterrows():\n",
        "        geom = row[\"geometry\"]\n",
        "        layer = L_ETCH if bool(row.get(\"subtract\", False)) else L_METAL\n",
        "        for p in _shapely_to_gdstk_polys(geom, layer=layer):\n",
        "            cell.add(p)\n",
        "\n",
        "# 2) Centerlines in 'path' → buffered polygons (quad_segs=64 → 64 pts/quarter circle)\n",
        "def _to_um(x, default_um):\n",
        "    try:\n",
        "        return float(x)\n",
        "    except Exception:\n",
        "        s = str(x).strip().lower()\n",
        "        return float(s[:-2]) if s.endswith(\"um\") else float(default_um)\n",
        "\n",
        "if \"path\" in design.qgeometry.tables:\n",
        "    for _, row in design.qgeometry.tables[\"path\"].iterrows():\n",
        "        geom = row[\"geometry\"]\n",
        "        width_um = _to_um(row.get(\"width\", CPW_WIDTH_UM), CPW_WIDTH_UM)\n",
        "        # Shapely: quad_segs = segments per quarter circle — controls point density on turns\n",
        "        buf = geom.buffer(width_um/2.0, cap_style=2, join_style=2, quad_segs=64)\n",
        "        layer = L_ETCH if bool(row.get(\"subtract\", False)) else L_METAL\n",
        "        for p in _shapely_to_gdstk_polys(buf, layer=layer):\n",
        "            cell.add(p)\n",
        "\n",
        "lib.write_gds(str(GDS_PATH))\n",
        "print(\"Wrote:\", GDS_PATH)\n"
      ],
      "metadata": {
        "colab": {
          "base_uri": "https://localhost:8080/"
        },
        "id": "_pdm-Is3q6rV",
        "outputId": "40fa6ab5-c45f-40c7-cc86-26ba73a9c851"
      },
      "execution_count": 13,
      "outputs": [
        {
          "output_type": "stream",
          "name": "stdout",
          "text": [
            "Wrote: /content/out_gds/cpw_meander_with_pads.gds\n"
          ]
        }
      ]
    },
    {
      "cell_type": "code",
      "source": [
        "#@title 600-DPI preview (layer/datatype grouped)\n",
        "import os, numpy as np, gdstk, matplotlib.pyplot as plt\n",
        "from matplotlib.collections import PolyCollection\n",
        "from IPython.display import Image, display\n",
        "\n",
        "# Locate most recent GDS if path changed\n",
        "gds_path = str(GDS_PATH) if 'GDS_PATH' in globals() and os.path.isfile(GDS_PATH) else \"\"\n",
        "if not gds_path:\n",
        "    cands = []\n",
        "    for root, _, files in os.walk(\"/content\"):\n",
        "        for f in files:\n",
        "            if f.lower().endswith(\".gds\"):\n",
        "                cands.append(os.path.join(root, f))\n",
        "    gds_path = max(cands, key=os.path.getmtime)\n",
        "\n",
        "lib = gdstk.read_gds(gds_path)\n",
        "top = lib.top_level()[0]\n",
        "flat = top.copy(name=f\"{top.name}_FLAT\"); flat.flatten()\n",
        "\n",
        "by_spec = {}\n",
        "for poly in flat.polygons:\n",
        "    key = (poly.layer, poly.datatype)\n",
        "    by_spec.setdefault(key, []).append(np.asarray(poly.points, dtype=float))\n",
        "\n",
        "fig, ax = plt.subplots(figsize=(8,5), dpi=100)\n",
        "for _, verts in by_spec.items():\n",
        "    if verts:\n",
        "        ax.add_collection(PolyCollection(verts, linewidth=0.4))  # default color cycle\n",
        "(bb_min, bb_max) = flat.bounding_box()\n",
        "xmin, ymin = bb_min; xmax, ymax = bb_max\n",
        "pad = 0.05*max(xmax-xmin, ymax-ymin)\n",
        "ax.set_xlim(xmin-pad, xmax+pad); ax.set_ylim(ymin-pad, ymax+pad)\n",
        "ax.set_aspect(\"equal\"); ax.axis(\"off\")\n",
        "\n",
        "png_out = os.path.splitext(gds_path)[0] + \"_preview_600dpi.png\"\n",
        "pdf_out = os.path.splitext(gds_path)[0] + \"_preview.pdf\"\n",
        "fig.savefig(png_out, dpi=600, bbox_inches=\"tight\", pad_inches=0.02)\n",
        "fig.savefig(pdf_out,        bbox_inches=\"tight\", pad_inches=0.02)\n",
        "plt.close(fig)\n",
        "\n",
        "print(\"GDS:\", gds_path)\n",
        "print(\"Saved PNG:\", png_out)\n",
        "print(\"Saved PDF:\", pdf_out)\n",
        "display(Image(png_out))\n"
      ],
      "metadata": {
        "colab": {
          "base_uri": "https://localhost:8080/",
          "height": 218
        },
        "id": "Ov8-UiZzq6pN",
        "outputId": "b8a2ac51-14a3-4a35-ab43-acbae537c193"
      },
      "execution_count": 14,
      "outputs": [
        {
          "output_type": "stream",
          "name": "stdout",
          "text": [
            "GDS: /content/out_gds/cpw_meander_with_pads.gds\n",
            "Saved PNG: /content/out_gds/cpw_meander_with_pads_preview_600dpi.png\n",
            "Saved PDF: /content/out_gds/cpw_meander_with_pads_preview.pdf\n"
          ]
        },
        {
          "output_type": "display_data",
          "data": {
            "image/png": "[encoded data removed]",
            "text/plain": [
              "<IPython.core.display.Image object>"
            ]
          },
          "metadata": {}
        }
      ]
    },
    {
      "cell_type": "code",
      "source": [
        "# @title Export CPW with gaps, rounded bends, and ground plane (pure GDSTK)\n",
        "from pathlib import Path\n",
        "import math\n",
        "import numpy as np\n",
        "import shapely.geometry as sgeom\n",
        "import shapely.ops as sops\n",
        "import gdstk\n",
        "\n",
        "# ----- Helper: parse \"8mm\", \"300um\" → microns -----\n",
        "def to_um(val, default_um=0.0):\n",
        "    try:\n",
        "        return float(val)\n",
        "    except Exception:\n",
        "        s = str(val).strip().lower()\n",
        "        if s.endswith(\"mm\"):\n",
        "            return float(s[:-2]) * 1_000.0\n",
        "        if s.endswith(\"um\"):\n",
        "            return float(s[:-2])\n",
        "        if s.endswith(\"nm\"):\n",
        "            return float(s[:-2]) * 1e-3\n",
        "        return float(default_um)\n",
        "\n",
        "# ----- 1) Recover key knobs from your design (used earlier) -----\n",
        "cpw_w_um = to_um(design.variables.get(\"cpw_width\", \"10um\"), 10.0)\n",
        "cpw_g_um = to_um(design.variables.get(\"cpw_gap\",   \"6um\"),   6.0)\n",
        "\n",
        "# If you used names from the prior cell, these exist; else just set constants here:\n",
        "PAD_GAP_UM = globals().get(\"PAD_GAP_UM\", 144.0)\n",
        "\n",
        "# Chip size (centered box)\n",
        "sx_um = to_um(design.chips.main.size[\"size_x\"], 1000.0)  # default 8 mm if missing\n",
        "sy_um = to_um(design.chips.main.size[\"size_y\"], 600.0)  # default 4 mm\n",
        "chip_box = sgeom.box(-sx_um/2, -sy_um/2, sx_um/2, sy_um/2)\n",
        "\n",
        "# ----- 2) Build Shapely sets: conductor polygons, CPW gap rings -----\n",
        "conductor_geoms = []   # center trace + pads\n",
        "gap_geoms       = []   # rings: (width/2 + gap) buffer minus (width/2) buffer\n",
        "\n",
        "# 2a) Center trace from qgeometry PATH: buffer twice (round, quad_segs=64)\n",
        "if \"path\" in design.qgeometry.tables:\n",
        "    for _, row in design.qgeometry.tables[\"path\"].iterrows():\n",
        "        geom = row[\"geometry\"]                # LineString\n",
        "        width_um = to_um(row.get(\"width\", cpw_w_um), cpw_w_um)\n",
        "\n",
        "        core  = geom.buffer(width_um/2, cap_style='round', join_style='round', quad_segs=64)\n",
        "        outer = geom.buffer(width_um/2 + cpw_g_um, cap_style='round', join_style='round', quad_segs=64)\n",
        "        ring  = outer.difference(core)\n",
        "\n",
        "        conductor_geoms.append(core)\n",
        "        gap_geoms.append(ring)\n",
        "\n",
        "# 2b) Pads from qgeometry POLY: add as conductors; build pad gap as ring\n",
        "if \"poly\" in design.qgeometry.tables:\n",
        "    poly_df = design.qgeometry.tables[\"poly\"].copy()\n",
        "    for _, row in poly_df.iterrows():\n",
        "        geom = row[\"geometry\"]                # Polygon / MultiPolygon for pads/tapers/etc.\n",
        "        # Add all non-subtract polys as metal\n",
        "        if not bool(row.get(\"subtract\", False)):\n",
        "            conductor_geoms.append(geom)\n",
        "            # Surround pads with PAD_GAP_UM ring (optional but requested)\n",
        "            if PAD_GAP_UM > 0:\n",
        "                pad_ring = geom.buffer(PAD_GAP_UM, cap_style='round', join_style='round', quad_segs=64).difference(geom)\n",
        "                gap_geoms.append(pad_ring)\n",
        "\n",
        "# Union for robustness\n",
        "conductor_un  = sops.unary_union(conductor_geoms) if conductor_geoms else sgeom.GeometryCollection()\n",
        "gap_un        = sops.unary_union(gap_geoms)       if gap_geoms       else sgeom.GeometryCollection()\n",
        "\n",
        "# Ground plane: chip rectangle minus (conductor + gaps)\n",
        "gnd_un = chip_box.difference(sops.unary_union([conductor_un, gap_un]))\n",
        "\n",
        "# ----- 3) Write to GDS (positive metal layer) -----\n",
        "OUT_DIR = Path(\"/content/out_gds\"); OUT_DIR.mkdir(parents=True, exist_ok=True)\n",
        "GDS_PATH = OUT_DIR / \"cpw_meander_with_pads_and_ground.gds\"\n",
        "\n",
        "def shapely_to_gdstk(geom, layer, datatype=0):\n",
        "    polys = []\n",
        "    if geom.is_empty:\n",
        "        return polys\n",
        "    if geom.geom_type == \"Polygon\":\n",
        "        polys.append(gdstk.Polygon(np.asarray(geom.exterior.coords), layer=layer, datatype=datatype))\n",
        "        for hole in geom.interiors:\n",
        "            polys.append(gdstk.Polygon(np.asarray(hole.coords), layer=layer, datatype=datatype))\n",
        "    elif geom.geom_type == \"MultiPolygon\":\n",
        "        for sub in geom.geoms:\n",
        "            polys.extend(shapely_to_gdstk(sub, layer, datatype))\n",
        "    else:\n",
        "        # Attempt polygonization for line-y leftovers (shouldn’t happen here)\n",
        "        try:\n",
        "            for sub in sops.polygonize(geom):\n",
        "                polys.extend(shapely_to_gdstk(sub, layer, datatype))\n",
        "        except Exception:\n",
        "            pass\n",
        "    return polys\n",
        "\n",
        "# Layers: separate ground and trace for clarity\n",
        "L_TRACE = 1\n",
        "L_GND   = 2\n",
        "\n",
        "lib  = gdstk.Library(unit=1e-6, precision=1e-9)\n",
        "cell = gdstk.Cell(\"CPW_WITH_PADS_AND_GROUND\"); lib.add(cell)\n",
        "\n",
        "for p in shapely_to_gdstk(conductor_un, layer=L_TRACE):\n",
        "    cell.add(p)\n",
        "for p in shapely_to_gdstk(gnd_un,       layer=L_GND):\n",
        "    cell.add(p)\n",
        "\n",
        "lib.write_gds(str(GDS_PATH))\n",
        "print(\"Wrote:\", GDS_PATH)\n"
      ],
      "metadata": {
        "colab": {
          "base_uri": "https://localhost:8080/"
        },
        "id": "LraSWZjCq6ml",
        "outputId": "f93687ca-dfb0-4460-f9ae-ab81e0ecf80d"
      },
      "execution_count": 17,
      "outputs": [
        {
          "output_type": "stream",
          "name": "stdout",
          "text": [
            "Wrote: /content/out_gds/cpw_meander_with_pads_and_ground.gds\n"
          ]
        }
      ]
    },
    {
      "cell_type": "code",
      "source": [
        "# @title 600-DPI preview (ground vs trace split)\n",
        "import os, numpy as np, gdstk, matplotlib.pyplot as plt\n",
        "from matplotlib.collections import PolyCollection\n",
        "from IPython.display import Image, display\n",
        "\n",
        "# Locate newest GDS under /content if path changed\n",
        "gds_path = str(GDS_PATH) if 'GDS_PATH' in globals() and os.path.isfile(GDS_PATH) else \"\"\n",
        "if not gds_path:\n",
        "    cands=[]\n",
        "    for root,_,files in os.walk(\"/content\"):\n",
        "        for f in files:\n",
        "            if f.lower().endswith(\".gds\"):\n",
        "                cands.append(os.path.join(root,f))\n",
        "    if not cands: raise FileNotFoundError(\"No .gds found.\")\n",
        "    gds_path = max(cands, key=os.path.getmtime)\n",
        "\n",
        "lib = gdstk.read_gds(gds_path)\n",
        "top = lib.top_level()[0]\n",
        "flat = top.copy(name=f\"{top.name}_FLAT\"); flat.flatten()\n",
        "\n",
        "by_spec = {}\n",
        "for poly in flat.polygons:\n",
        "    key = (poly.layer, poly.datatype)\n",
        "    by_spec.setdefault(key, []).append(np.asarray(poly.points, dtype=float))\n",
        "\n",
        "fig, ax = plt.subplots(figsize=(8,5), dpi=100)\n",
        "for key, verts in sorted(by_spec.items()):\n",
        "    if verts:\n",
        "        ax.add_collection(PolyCollection(verts, linewidth=0.4))  # default color cycle\n",
        "\n",
        "(bb_min, bb_max) = flat.bounding_box()\n",
        "xmin, ymin = bb_min; xmax, ymax = bb_max\n",
        "pad = 0.05*max(xmax-xmin, ymax-ymin)\n",
        "ax.set_xlim(xmin-pad, xmax+pad); ax.set_ylim(ymin-pad, ymax+pad)\n",
        "ax.set_aspect(\"equal\"); ax.axis(\"off\")\n",
        "\n",
        "png_out = os.path.splitext(gds_path)[0] + \"_preview_600dpi.png\"\n",
        "pdf_out = os.path.splitext(gds_path)[0] + \"_preview.pdf\"\n",
        "fig.savefig(png_out, dpi=600, bbox_inches=\"tight\", pad_inches=0.02)\n",
        "fig.savefig(pdf_out,        bbox_inches=\"tight\", pad_inches=0.02)\n",
        "plt.close(fig)\n",
        "print(\"Saved:\", png_out)\n",
        "print(\"Saved:\", pdf_out)\n",
        "display(Image(png_out))\n"
      ],
      "metadata": {
        "colab": {
          "base_uri": "https://localhost:8080/",
          "height": 482
        },
        "id": "rRjaxUN7q6kW",
        "outputId": "bf0fafd0-0289-4951-d2b5-c9082352fc3c"
      },
      "execution_count": 18,
      "outputs": [
        {
          "output_type": "stream",
          "name": "stdout",
          "text": [
            "Saved: /content/out_gds/cpw_meander_with_pads_and_ground_preview_600dpi.png\n",
            "Saved: /content/out_gds/cpw_meander_with_pads_and_ground_preview.pdf\n"
          ]
        },
        {
          "output_type": "display_data",
          "data": {
            "image/png": "[encoded data removed]",
            "text/plain": [
              "<IPython.core.display.Image object>"
            ]
          },
          "metadata": {}
        }
      ]
    },
    {
      "cell_type": "code",
      "source": [],
      "metadata": {
        "id": "3wzbwIO3q6h9"
      },
      "execution_count": null,
      "outputs": []
    },
    {
      "cell_type": "code",
      "source": [],
      "metadata": {
        "id": "FGg2vWweq6f1"
      },
      "execution_count": null,
      "outputs": []
    },
    {
      "cell_type": "code",
      "source": [],
      "metadata": {
        "id": "va6p3SDzq6bt"
      },
      "execution_count": null,
      "outputs": []
    },
    {
      "cell_type": "code",
      "source": [],
      "metadata": {
        "id": "9rgNiJZFq6VG"
      },
      "execution_count": null,
      "outputs": []
    }
  ]
}